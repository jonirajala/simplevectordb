{
 "cells": [
  {
   "cell_type": "code",
   "execution_count": 2,
   "metadata": {},
   "outputs": [],
   "source": [
    "from torch import nn\n",
    "import torch\n",
    "from torch.optim import AdamW\n",
    "import numpy as np\n",
    "import re\n",
    "from nltk.tokenize import word_tokenize\n",
    "import wikipediaapi\n",
    "import matplotlib.pyplot as plt"
   ]
  },
  {
   "cell_type": "code",
   "execution_count": 11,
   "metadata": {},
   "outputs": [
    {
     "name": "stdout",
     "output_type": "stream",
     "text": [
      "Fetching: History\n",
      "Fetching: Glossary of history\n",
      "Fetching: Outline of history\n",
      "Fetching: Art and culture law\n",
      "Fetching: Biography\n",
      "Fetching: List of historical classifications\n",
      "Fetching: Environmental history\n",
      "Fetching: Historical figure\n",
      "Fetching: Historical culture\n",
      "Fetching: Historical significance\n",
      "Fetching: Historicism\n",
      "Fetching: Local history\n",
      "Fetching: History of magic\n",
      "Fetching: National memory\n"
     ]
    }
   ],
   "source": [
    "\n",
    "\n",
    "def generate_data_skipgram(corpus, window_size, vocab_size, word_to_index):\n",
    "    all_in = []\n",
    "    all_out = []\n",
    "    for words in corpus:\n",
    "        L = len(words)\n",
    "        for index, word in enumerate(words):\n",
    "            p = index - window_size\n",
    "            n = index + window_size + 1\n",
    "            for i in range(p, n):\n",
    "                if i != index and 0 <= i < L:\n",
    "                    # Input word as index\n",
    "                    all_in.append(word_to_index[word])\n",
    "                    # Context word as one-hot\n",
    "                    one_hot = np.zeros(vocab_size)\n",
    "                    one_hot[word_to_index[words[i]]] = 1\n",
    "                    all_out.append(one_hot)\n",
    "\n",
    "    return np.array(all_in), np.array(all_out)\n",
    "\n",
    "class Word2Vec(nn.Module):\n",
    "    def __init__(self, vocab_size, embedding_dim):\n",
    "        super(Word2Vec, self).__init__()\n",
    "        self.embedding = nn.Embedding(num_embeddings=vocab_size, embedding_dim=embedding_dim)\n",
    "        self.out = nn.Linear(embedding_dim, vocab_size)\n",
    "        self.softmax = nn.Softmax(dim=1)\n",
    "\n",
    "    def forward(self, x):\n",
    "        emb = self.embedding(x)\n",
    "        out = self.out(emb)\n",
    "        return self.softmax(out)\n",
    "\n",
    "\n",
    "# Initialize the Wikipedia API for Finnish\n",
    "user_agent = \"YourAppName/1.0 (your.email@example.com)\"\n",
    "wiki = wikipediaapi.Wikipedia(language=\"en\", user_agent=user_agent)\n",
    "\n",
    "def get_category_members(category_name, max_pages=10):\n",
    "    category = wiki.page(\"Category:\" + category_name)\n",
    "    if not category.exists():\n",
    "        print(f\"Category '{category_name}' does not exist.\")\n",
    "        return []\n",
    "\n",
    "    articles = []\n",
    "    for member in category.categorymembers.values():\n",
    "        if len(articles) >= max_pages:\n",
    "            break\n",
    "        if member.ns == 0:  # ns=0 indicates articles\n",
    "            print(f\"Fetching: {member.title}\")\n",
    "            articles.append(member.text)\n",
    "    return articles\n",
    "\n",
    "# Example: Fetch articles from the \"Tekniikka\" (Technology) category\n",
    "finnish_articles = get_category_members(\"Biology\", max_pages=30)\n",
    "\n"
   ]
  },
  {
   "cell_type": "code",
   "execution_count": 12,
   "metadata": {},
   "outputs": [
    {
     "name": "stdout",
     "output_type": "stream",
     "text": [
      "Cleaned 14 articles.\n"
     ]
    },
    {
     "ename": "",
     "evalue": "",
     "output_type": "error",
     "traceback": [
      "\u001b[1;31mCannot execute code, session has been disposed. Please try restarting the Kernel."
     ]
    },
    {
     "ename": "",
     "evalue": "",
     "output_type": "error",
     "traceback": [
      "\u001b[1;31mThe Kernel crashed while executing code in the the current cell or a previous cell. Please review the code in the cell(s) to identify a possible cause of the failure. Click <a href='https://aka.ms/vscodeJupyterKernelCrash'>here</a> for more info. View Jupyter <a href='command:jupyter.viewOutput'>log</a> for further details."
     ]
    }
   ],
   "source": [
    "def clean_wikipedia_text(text):\n",
    "    text = re.sub(r\"=+.*?=+\", \"\", text)\n",
    "    \n",
    "    # Remove references like [1], [2]\n",
    "    text = re.sub(r\"\\[\\d+\\]\", \"\", text)\n",
    "    \n",
    "    # Remove HTML tags\n",
    "    text = re.sub(r\"<.*?>\", \"\", text)\n",
    "    \n",
    "    # Remove links (URLs)\n",
    "    text = re.sub(r\"http\\S+|www\\S+|https\\S+\", \"\", text, flags=re.MULTILINE)\n",
    "    \n",
    "    # Remove sections that are non-informative\n",
    "    sections = [\"See also\", \"References\", \"External links\", \"Further reading\", \"Katso myös\", \"Viitteet\", \"Lähteet\"]\n",
    "    for section in sections:\n",
    "        text = re.sub(rf\"== {section} ==.*\", \"\", text, flags=re.DOTALL)\n",
    "\n",
    "    # Remove special characters and numbers (retain only alphabetic characters and spaces)\n",
    "    text = re.sub(r\"[^a-zA-ZäöåÄÖÅ\\s]\", \"\", text)\n",
    "    \n",
    "    # Normalize whitespace\n",
    "    text = re.sub(r\"\\s+\", \" \", text).strip()\n",
    "    return text\n",
    "\n",
    "# Clean all articles\n",
    "corpus = [clean_wikipedia_text(article) for article in finnish_articles]\n",
    "print(f\"Cleaned {len(corpus)} articles.\")\n",
    "\n",
    "# Filter short sentences\n",
    "corpus = [sentence for sentence in corpus if sentence.count(\" \") >= 2]\n",
    "\n",
    "# Tokenize corpus into words\n",
    "corpus = [word_tokenize(sentence.lower()) for sentence in corpus]\n",
    "\n",
    "# Build vocabulary and word-to-index mapping\n",
    "flat_corpus = [word for sentence in corpus for word in sentence]\n",
    "unique_words = sorted(set(flat_corpus))\n",
    "word_to_index = {word: idx for idx, word in enumerate(unique_words)}\n",
    "vocab_size = len(unique_words)\n",
    "\n",
    "\n",
    "# Generate skip-gram data\n",
    "window_size = 3\n",
    "X_skip, y_skip = generate_data_skipgram(corpus, window_size, vocab_size, word_to_index)\n",
    "print(f\"Input shape: {X_skip.shape}, Output shape: {y_skip.shape}\")\n"
   ]
  },
  {
   "cell_type": "code",
   "execution_count": 5,
   "metadata": {},
   "outputs": [
    {
     "data": {
      "text/plain": [
       "8976"
      ]
     },
     "execution_count": 5,
     "metadata": {},
     "output_type": "execute_result"
    }
   ],
   "source": [
    "vocab_size"
   ]
  },
  {
   "cell_type": "code",
   "execution_count": 6,
   "metadata": {},
   "outputs": [
    {
     "data": {
      "text/plain": [
       "['a',\n",
       " 'aa',\n",
       " 'ab',\n",
       " 'aba',\n",
       " 'abandon',\n",
       " 'abandonment',\n",
       " 'abano',\n",
       " 'abbreviated',\n",
       " 'abbreviation',\n",
       " 'abcclio',\n",
       " 'abd',\n",
       " 'aberrational',\n",
       " 'abilities',\n",
       " 'ability',\n",
       " 'ablainen',\n",
       " 'able',\n",
       " 'abolish',\n",
       " 'aboriginal',\n",
       " 'about',\n",
       " 'above',\n",
       " 'abracadabra',\n",
       " 'abrahadabra',\n",
       " 'abraham',\n",
       " 'abramelin',\n",
       " 'abridgement',\n",
       " 'absence',\n",
       " 'absent',\n",
       " 'absolute',\n",
       " 'absolutism',\n",
       " 'absorbed',\n",
       " 'abstract',\n",
       " 'abstraction',\n",
       " 'abstractions',\n",
       " 'abstracts',\n",
       " 'abundance',\n",
       " 'abyss',\n",
       " 'ac',\n",
       " 'academia',\n",
       " 'academic',\n",
       " 'academica',\n",
       " 'academics',\n",
       " 'academy',\n",
       " 'accademia',\n",
       " 'accelerate',\n",
       " 'accelerated',\n",
       " 'accelerating',\n",
       " 'accent',\n",
       " 'accentuation',\n",
       " 'accept',\n",
       " 'acceptable',\n",
       " 'acceptance',\n",
       " 'accepted',\n",
       " 'access',\n",
       " 'accessed',\n",
       " 'accessible',\n",
       " 'accompanied',\n",
       " 'accompany',\n",
       " 'accompanying',\n",
       " 'accomplished',\n",
       " 'accomplishments',\n",
       " 'accord',\n",
       " 'accordance',\n",
       " 'according',\n",
       " 'accordingly',\n",
       " 'account',\n",
       " 'accounted',\n",
       " 'accounts',\n",
       " 'accrual',\n",
       " 'accumulate',\n",
       " 'accumulated',\n",
       " 'accumulation',\n",
       " 'accuracy',\n",
       " 'accurate',\n",
       " 'accurately',\n",
       " 'accusation',\n",
       " 'accusations',\n",
       " 'accused',\n",
       " 'accuser',\n",
       " 'accuses',\n",
       " 'accusing',\n",
       " 'achieve',\n",
       " 'achieved',\n",
       " 'achievements',\n",
       " 'achieving',\n",
       " 'acid',\n",
       " 'ackerley',\n",
       " 'acknowledge',\n",
       " 'acknowledged',\n",
       " 'acknowledges',\n",
       " 'acknowledging',\n",
       " 'acquaintance',\n",
       " 'acquire',\n",
       " 'acquired',\n",
       " 'acquires',\n",
       " 'acquitted',\n",
       " 'across',\n",
       " 'act',\n",
       " 'acted',\n",
       " 'actes',\n",
       " 'acting']"
      ]
     },
     "execution_count": 6,
     "metadata": {},
     "output_type": "execute_result"
    }
   ],
   "source": [
    "list(word_to_index)[:100]"
   ]
  },
  {
   "cell_type": "code",
   "execution_count": 7,
   "metadata": {},
   "outputs": [],
   "source": [
    "\n",
    "device = \"cuda\" if torch.cuda.is_available() else \"cpu\"\n",
    "\n",
    "# Initialize the Word2Vec model\n",
    "embedding_dim = 200\n",
    "batch_size = 32\n",
    "word2vec = Word2Vec(vocab_size, embedding_dim)\n",
    "word2vec.to(device)\n",
    "optim = AdamW(word2vec.parameters(), lr=0.001)\n",
    "loss_f = nn.CrossEntropyLoss()\n",
    "\n",
    "# Convert data to PyTorch tensors\n",
    "X_skip = torch.tensor(X_skip, dtype=torch.long, device=device)  # Input indices\n",
    "y_skip = torch.tensor(y_skip, dtype=torch.float, device=device)  # One-hot encoded targets\n",
    "\n",
    "# Training loop"
   ]
  },
  {
   "cell_type": "code",
   "execution_count": 8,
   "metadata": {},
   "outputs": [
    {
     "name": "stdout",
     "output_type": "stream",
     "text": [
      "Iteration 300, Loss: 9.09385178565979\n",
      "Iteration 600, Loss: 9.084591840108235\n",
      "Iteration 900, Loss: 9.078716071446737\n",
      "Iteration 1200, Loss: 9.07412210146586\n",
      "Iteration 1500, Loss: 9.06863834698995\n",
      "Iteration 1800, Loss: 9.062742214202881\n",
      "Iteration 2100, Loss: 9.059538742701212\n",
      "Iteration 2400, Loss: 9.057269458770753\n",
      "Iteration 2700, Loss: 9.054224809010824\n",
      "Iteration 3000, Loss: 9.049404344558717\n",
      "Iteration 3300, Loss: 9.045489533742268\n",
      "Iteration 3600, Loss: 9.040759989420573\n",
      "Iteration 3900, Loss: 9.045497280756633\n",
      "Iteration 4200, Loss: 9.043027499516805\n",
      "Iteration 4500, Loss: 9.042021843592325\n",
      "Iteration 4800, Loss: 9.04309580485026\n"
     ]
    }
   ],
   "source": [
    "losses = []\n",
    "iters = 5000\n",
    "norm_losses = []\n",
    "for i in range(1, iters+1):  # Number of training steps\n",
    "    # Randomly sample a batch of data\n",
    "    \n",
    "    idx = np.random.choice(len(X_skip), size=batch_size, replace=True)\n",
    "    \n",
    "    batch_x, batch_y = X_skip[idx], y_skip[idx]\n",
    "\n",
    "    # Zero gradients from the previous step\n",
    "    optim.zero_grad()\n",
    "\n",
    "    # Forward pass\n",
    "    out = word2vec(batch_x)\n",
    "\n",
    "    # Compute the loss\n",
    "    loss = loss_f(out, batch_y)  # Convert one-hot to class indices\n",
    "\n",
    "    # Backward pass and optimization\n",
    "    loss.backward()\n",
    "    optim.step()\n",
    "    norm_losses.append(loss.item())\n",
    "\n",
    "    # Print loss every 10 iterations\n",
    "    if i % 300 == 0:\n",
    "        avg_loss = sum(norm_losses) / 300\n",
    "        losses.append(avg_loss)\n",
    "        print(f\"Iteration {i}, Loss: {avg_loss}\")\n",
    "        norm_losses = []"
   ]
  },
  {
   "cell_type": "code",
   "execution_count": 9,
   "metadata": {},
   "outputs": [
    {
     "data": {
      "text/plain": [
       "[<matplotlib.lines.Line2D at 0x11f050bb0>]"
      ]
     },
     "execution_count": 9,
     "metadata": {},
     "output_type": "execute_result"
    },
    {
     "data": {
      "image/png": "[encoded data removed]",
      "text/plain": [
       "<Figure size 640x480 with 1 Axes>"
      ]
     },
     "metadata": {},
     "output_type": "display_data"
    }
   ],
   "source": [
    "plt.plot(np.linspace(0, len(losses), len(losses)), losses)"
   ]
  },
  {
   "cell_type": "code",
   "execution_count": 10,
   "metadata": {},
   "outputs": [
    {
     "name": "stdout",
     "output_type": "stream",
     "text": [
      "Full training state saved as word2vec_full_skipgram.pt\n"
     ]
    }
   ],
   "source": [
    "torch.save({\n",
    "    'model_state_dict': word2vec.state_dict(),\n",
    "    'optimizer_state_dict': optim.state_dict(),\n",
    "    'vocab_size': vocab_size,\n",
    "    'embedding_dim': embedding_dim,\n",
    "    'word_to_index': word_to_index,  # Save word-to-index mapping for reuse\n",
    "}, \"word2vec_full_skipgram.pt\")\n",
    "print(\"Full training state saved as word2vec_full_skipgram.pt\")"
   ]
  },
  {
   "cell_type": "code",
   "execution_count": null,
   "metadata": {},
   "outputs": [],
   "source": []
  }
 ],
 "metadata": {
  "kernelspec": {
   "display_name": "venv",
   "language": "python",
   "name": "python3"
  },
  "language_info": {
   "codemirror_mode": {
    "name": "ipython",
    "version": 3
   },
   "file_extension": ".py",
   "mimetype": "text/x-python",
   "name": "python",
   "nbconvert_exporter": "python",
   "pygments_lexer": "ipython3",
   "version": "3.10.12"
  },
  "orig_nbformat": 4
 },
 "nbformat": 4,
 "nbformat_minor": 2
}
