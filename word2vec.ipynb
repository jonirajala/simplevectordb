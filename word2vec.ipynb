{
 "cells": [
  {
   "cell_type": "code",
   "execution_count": 64,
   "metadata": {},
   "outputs": [],
   "source": [
    "from torch import nn\n",
    "import torch\n",
    "from torch.optim import AdamW\n",
    "import numpy as np\n",
    "import re\n",
    "from nltk.tokenize import word_tokenize\n",
    "import wikipediaapi\n",
    "import matplotlib.pyplot as plt"
   ]
  },
  {
   "cell_type": "code",
   "execution_count": 42,
   "metadata": {},
   "outputs": [
    {
     "name": "stdout",
     "output_type": "stream",
     "text": [
      "Fetching: Puu\n",
      "Fetching: Aaltokielopuu\n",
      "Fetching: Acrenamburana\n",
      "Fetching: Adenanthera pavonina\n",
      "Fetching: Afrikanemeropuu\n",
      "Fetching: Afrikaniroko\n",
      "Fetching: Afrikanrieskapuu\n",
      "Fetching: Afzelia africana\n",
      "Fetching: Akaasiat\n",
      "Fetching: Akee\n",
      "Fetching: Alabamantrumpettipuu\n",
      "Fetching: Amblapuu\n",
      "Fetching: Amrapuu\n",
      "Fetching: Amurinkorkkipuu\n",
      "Fetching: Amurinvaahtera\n",
      "Fetching: Apachi\n",
      "Fetching: Argania spinosa\n",
      "Fetching: Aurinkosoihtupuu\n",
      "Fetching: Bahamantemppelipuu\n",
      "Fetching: Balsapuu\n",
      "Fetching: Banianiviikuna\n",
      "Fetching: Barbeyaceae\n",
      "Fetching: Bengalinleiskupuu\n",
      "Fetching: Brasiliankesalpinia\n",
      "Fetching: Bursera graveolens\n",
      "Fetching: Ceyloninmoringa\n",
      "Fetching: Costaricanmakapuu\n",
      "Fetching: Costaricansäkenepuu\n",
      "Fetching: Coulteria cubensis\n",
      "Fetching: Davidinvaahtera\n",
      "Fetching: Dipentodontaceae\n",
      "Fetching: Eupteleaceae\n",
      "Fetching: Gaboninkopaalipuu\n",
      "Fetching: Gaboninmarkiisipuu\n",
      "Fetching: Gabonpuu\n",
      "Fetching: Gomortega keule\n",
      "Fetching: Gomortegaceae\n",
      "Fetching: Guapira floribunda\n",
      "Fetching: Haptanthus hazlettii\n",
      "Fetching: Hartsiakaasia\n",
      "Fetching: Hedelmäpuu\n",
      "Fetching: Hesperomeles ferruginea\n",
      "Fetching: Hieskoivu\n",
      "Fetching: Hopeasalava\n",
      "Fetching: Hopeavaahtera\n",
      "Fetching: Huntuvaahtera\n",
      "Fetching: Hurmemaitopuu\n",
      "Fetching: Idänambrapuu\n",
      "Fetching: Ilex guayusa\n",
      "Fetching: Intiandillenia\n",
      "Fetching: Intianjasmikki\n",
      "Fetching: Intianleipäpuu\n",
      "Fetching: Irokot\n",
      "Fetching: Itkusalava\n",
      "Fetching: Jaavanpallerosade\n",
      "Fetching: Jakaranda\n",
      "Fetching: Jakarandat\n",
      "Fetching: Jalo lehtipuu\n",
      "Fetching: Jalopuumetsikkö\n",
      "Fetching: Japaninpagodipuu\n",
      "Fetching: Japaninstoraksi\n",
      "Fetching: Johanneksenleipäpuu\n",
      "Fetching: Jokikasuariina\n",
      "Fetching: Jokisalava\n",
      "Fetching: Jouhikasuariina\n",
      "Fetching: Jousilieskapuu\n",
      "Fetching: Jättikäpymänty\n",
      "Fetching: Jättiläispunapuu\n",
      "Fetching: Kaakaopuu\n",
      "Fetching: Kalliopullopuu\n",
      "Fetching: Kallohonka\n",
      "Fetching: Kanarianviherlaakeri\n",
      "Fetching: Kanelo\n",
      "Fetching: Kanuunankuulapuu\n",
      "Fetching: Kapintambotipuu\n",
      "Fetching: Karibianrakkomarja\n",
      "Fetching: Kastanjasutipuu\n",
      "Fetching: Keisaripuu\n",
      "Fetching: Keisaripuut\n",
      "Fetching: Keltakoivu\n",
      "Fetching: Keltaliekkipuu\n",
      "Fetching: Kierreakaasia\n",
      "Fetching: Kiiltolaakerikamelia\n",
      "Fetching: Kiinantalipuu\n",
      "Fetching: Kiniinipuu\n",
      "Fetching: Kirahviakaasia\n",
      "Fetching: Kirjobauhinia\n",
      "Fetching: Kolopesijälintu\n",
      "Fetching: Koreanvaahtera\n",
      "Fetching: Kosso\n",
      "Fetching: Kreetanvaahtera\n",
      "Fetching: Kultatähtiomena\n",
      "Fetching: Kuningasmagnolia\n",
      "Fetching: Kunnasleimupuu\n",
      "Fetching: Kuparivaahtera\n",
      "Fetching: Lacistemataceae\n",
      "Fetching: Lakkipuu\n",
      "Fetching: Lauttahurapuu\n",
      "Fetching: Lehtipuut\n",
      "Fetching: Liberiankahvi\n"
     ]
    }
   ],
   "source": [
    "\n",
    "\n",
    "def generate_data_skipgram(corpus, window_size, vocab_size, word_to_index):\n",
    "    all_in = []\n",
    "    all_out = []\n",
    "    for words in corpus:\n",
    "        L = len(words)\n",
    "        for index, word in enumerate(words):\n",
    "            p = index - window_size\n",
    "            n = index + window_size + 1\n",
    "            for i in range(p, n):\n",
    "                if i != index and 0 <= i < L:\n",
    "                    # Input word as index\n",
    "                    all_in.append(word_to_index[word])\n",
    "                    # Context word as one-hot\n",
    "                    one_hot = np.zeros(vocab_size)\n",
    "                    one_hot[word_to_index[words[i]]] = 1\n",
    "                    all_out.append(one_hot)\n",
    "\n",
    "    return np.array(all_in), np.array(all_out)\n",
    "\n",
    "class Word2Vec(nn.Module):\n",
    "    def __init__(self, vocab_size, embedding_dim):\n",
    "        super(Word2Vec, self).__init__()\n",
    "        self.embedding = nn.Embedding(num_embeddings=vocab_size, embedding_dim=embedding_dim)\n",
    "        self.out = nn.Linear(embedding_dim, vocab_size)\n",
    "        self.softmax = nn.Softmax(dim=1)\n",
    "\n",
    "    def forward(self, x):\n",
    "        emb = self.embedding(x)\n",
    "        out = self.out(emb)\n",
    "        return self.softmax(out)\n",
    "\n",
    "\n",
    "# Initialize the Wikipedia API for Finnish\n",
    "user_agent = \"YourAppName/1.0 (your.email@example.com)\"\n",
    "wiki = wikipediaapi.Wikipedia(language=\"fi\", user_agent=user_agent)\n",
    "\n",
    "def get_category_members(category_name, max_pages=10):\n",
    "    category = wiki.page(\"Luokka:\" + category_name)\n",
    "    if not category.exists():\n",
    "        print(f\"Category '{category_name}' does not exist.\")\n",
    "        return []\n",
    "\n",
    "    articles = []\n",
    "    for member in category.categorymembers.values():\n",
    "        if len(articles) >= max_pages:\n",
    "            break\n",
    "        if member.ns == 0:  # ns=0 indicates articles\n",
    "            print(f\"Fetching: {member.title}\")\n",
    "            articles.append(member.text)\n",
    "    return articles\n",
    "\n",
    "# Example: Fetch articles from the \"Tekniikka\" (Technology) category\n",
    "finnish_articles = get_category_members(\"Puut\", max_pages=100)\n",
    "\n"
   ]
  },
  {
   "cell_type": "code",
   "execution_count": 51,
   "metadata": {},
   "outputs": [
    {
     "name": "stdout",
     "output_type": "stream",
     "text": [
      "Cleaned 100 articles.\n",
      "Input shape: (70796,), Output shape: (70796, 6515)\n"
     ]
    }
   ],
   "source": [
    "def clean_wikipedia_text(text):\n",
    "    text = re.sub(r\"=+.*?=+\", \"\", text)\n",
    "    \n",
    "    # Remove references like [1], [2]\n",
    "    text = re.sub(r\"\\[\\d+\\]\", \"\", text)\n",
    "    \n",
    "    # Remove HTML tags\n",
    "    text = re.sub(r\"<.*?>\", \"\", text)\n",
    "    \n",
    "    # Remove links (URLs)\n",
    "    text = re.sub(r\"http\\S+|www\\S+|https\\S+\", \"\", text, flags=re.MULTILINE)\n",
    "    \n",
    "    # Remove sections that are non-informative\n",
    "    sections = [\"See also\", \"References\", \"External links\", \"Further reading\", \"Katso myös\", \"Viitteet\", \"Lähteet\"]\n",
    "    for section in sections:\n",
    "        text = re.sub(rf\"== {section} ==.*\", \"\", text, flags=re.DOTALL)\n",
    "\n",
    "    # Remove special characters and numbers (retain only alphabetic characters and spaces)\n",
    "    text = re.sub(r\"[^a-zA-ZäöåÄÖÅ\\s]\", \"\", text)\n",
    "    \n",
    "    # Normalize whitespace\n",
    "    text = re.sub(r\"\\s+\", \" \", text).strip()\n",
    "    return text\n",
    "\n",
    "# Clean all articles\n",
    "corpus = [clean_wikipedia_text(article) for article in finnish_articles]\n",
    "print(f\"Cleaned {len(corpus)} articles.\")\n",
    "\n",
    "# Filter short sentences\n",
    "corpus = [sentence for sentence in corpus if sentence.count(\" \") >= 2]\n",
    "\n",
    "# Tokenize corpus into words\n",
    "corpus = [word_tokenize(sentence.lower()) for sentence in corpus]\n",
    "\n",
    "# Build vocabulary and word-to-index mapping\n",
    "flat_corpus = [word for sentence in corpus for word in sentence]\n",
    "unique_words = sorted(set(flat_corpus))\n",
    "word_to_index = {word: idx for idx, word in enumerate(unique_words)}\n",
    "vocab_size = len(unique_words)\n",
    "\n",
    "\n",
    "# Generate skip-gram data\n",
    "window_size = 2\n",
    "X_skip, y_skip = generate_data_skipgram(corpus, window_size, vocab_size, word_to_index)\n",
    "print(f\"Input shape: {X_skip.shape}, Output shape: {y_skip.shape}\")\n"
   ]
  },
  {
   "cell_type": "code",
   "execution_count": 60,
   "metadata": {},
   "outputs": [
    {
     "data": {
      "text/plain": [
       "tensor([[0., 0., 0.,  ..., 0., 0., 0.],\n",
       "        [0., 0., 0.,  ..., 0., 0., 0.],\n",
       "        [0., 0., 0.,  ..., 0., 0., 0.],\n",
       "        ...,\n",
       "        [0., 0., 0.,  ..., 0., 0., 0.],\n",
       "        [0., 0., 0.,  ..., 0., 0., 0.],\n",
       "        [0., 0., 0.,  ..., 0., 0., 0.]])"
      ]
     },
     "execution_count": 60,
     "metadata": {},
     "output_type": "execute_result"
    }
   ],
   "source": [
    "y_skip"
   ]
  },
  {
   "cell_type": "code",
   "execution_count": null,
   "metadata": {},
   "outputs": [],
   "source": []
  },
  {
   "cell_type": "code",
   "execution_count": 52,
   "metadata": {},
   "outputs": [
    {
     "data": {
      "text/plain": [
       "6515"
      ]
     },
     "execution_count": 52,
     "metadata": {},
     "output_type": "execute_result"
    }
   ],
   "source": [
    "vocab_size"
   ]
  },
  {
   "cell_type": "code",
   "execution_count": 53,
   "metadata": {},
   "outputs": [
    {
     "data": {
      "text/plain": [
       "['a',\n",
       " 'aaltoileva',\n",
       " 'aaltokielopuu',\n",
       " 'aaltokielopuun',\n",
       " 'aaltokielopuusta',\n",
       " 'aaltokielopuuta',\n",
       " 'aamiaisella',\n",
       " 'aamulla',\n",
       " 'aarnio',\n",
       " 'aasiaa',\n",
       " 'aasialainen',\n",
       " 'aasialaisen',\n",
       " 'aasian',\n",
       " 'aasiassa',\n",
       " 'aasiasta',\n",
       " 'aavistuksen',\n",
       " 'abatsi',\n",
       " 'abyssinica',\n",
       " 'acacia',\n",
       " 'acer',\n",
       " 'acreana',\n",
       " 'acrenamburana',\n",
       " 'acrenamburanaa',\n",
       " 'acrenamburanan',\n",
       " 'addiktoivaa',\n",
       " 'adenanthera',\n",
       " 'adenocalyx',\n",
       " 'african',\n",
       " 'africana',\n",
       " 'africanan',\n",
       " 'afrikan',\n",
       " 'afrikanemeropuu',\n",
       " 'afrikanemeropuun',\n",
       " 'afrikanemeropuuta',\n",
       " 'afrikaniroko',\n",
       " 'afrikanrieskapuu',\n",
       " 'afrikanrieskapuun',\n",
       " 'afrikanrieskapuut',\n",
       " 'afrikassa',\n",
       " 'afrikkaa',\n",
       " 'afrikkaan',\n",
       " 'afrikkalainen',\n",
       " 'afrikkalaisessa',\n",
       " 'afxelia',\n",
       " 'afzelia',\n",
       " 'agriculture',\n",
       " 'agrimonia',\n",
       " 'ahvenanmaalla',\n",
       " 'aidan',\n",
       " 'aiemmin',\n",
       " 'aiheesta',\n",
       " 'aihetta',\n",
       " 'aiheutta',\n",
       " 'aiheuttaa',\n",
       " 'aiheuttama',\n",
       " 'aiheuttamia',\n",
       " 'aiheuttamille',\n",
       " 'aiheuttanut',\n",
       " 'aiheuttavan',\n",
       " 'aiheuttavat',\n",
       " 'aikaan',\n",
       " 'aikaisemmin',\n",
       " 'aikaisen',\n",
       " 'aikaisin',\n",
       " 'aikaisintaan',\n",
       " 'aikana',\n",
       " 'aikavälillä',\n",
       " 'aikoina',\n",
       " 'aikoja',\n",
       " 'aikojen',\n",
       " 'aikuisvaiheen',\n",
       " 'aina',\n",
       " 'ainakin',\n",
       " 'ainavihannat',\n",
       " 'ainavihannissa',\n",
       " 'ainavihanta',\n",
       " 'ainavihantaa',\n",
       " 'ainavihantia',\n",
       " 'ainavihantine',\n",
       " 'aineenvaihdunta',\n",
       " 'aineenvaihduntaan',\n",
       " 'aineita',\n",
       " 'ainetta',\n",
       " 'ainoa',\n",
       " 'ainoastaan',\n",
       " 'aistien',\n",
       " 'aiton',\n",
       " 'aivan',\n",
       " 'ajalta',\n",
       " 'ajan',\n",
       " 'ajanmäärityksissä',\n",
       " 'ajatellaan',\n",
       " 'ajateltu',\n",
       " 'ajoittain',\n",
       " 'ajoittaista',\n",
       " 'akaasia',\n",
       " 'akaasian',\n",
       " 'akaasiat',\n",
       " 'akaasioiden',\n",
       " 'akasiat']"
      ]
     },
     "execution_count": 53,
     "metadata": {},
     "output_type": "execute_result"
    }
   ],
   "source": [
    "list(word_to_index)[:100]"
   ]
  },
  {
   "cell_type": "code",
   "execution_count": 74,
   "metadata": {},
   "outputs": [
    {
     "name": "stderr",
     "output_type": "stream",
     "text": [
      "/var/folders/wh/jwc03s_96l93f7jyblm_8q9m0000gn/T/ipykernel_10686/3432276656.py:12: UserWarning: To copy construct from a tensor, it is recommended to use sourceTensor.clone().detach() or sourceTensor.clone().detach().requires_grad_(True), rather than torch.tensor(sourceTensor).\n",
      "  X_skip = torch.tensor(X_skip, dtype=torch.long, device=device)  # Input indices\n",
      "/var/folders/wh/jwc03s_96l93f7jyblm_8q9m0000gn/T/ipykernel_10686/3432276656.py:13: UserWarning: To copy construct from a tensor, it is recommended to use sourceTensor.clone().detach() or sourceTensor.clone().detach().requires_grad_(True), rather than torch.tensor(sourceTensor).\n",
      "  y_skip = torch.tensor(y_skip, dtype=torch.float, device=device)  # One-hot encoded targets\n"
     ]
    }
   ],
   "source": [
    "\n",
    "device = \"cuda\" if torch.cuda.is_available() else \"cpu\"\n",
    "\n",
    "# Initialize the Word2Vec model\n",
    "embedding_dim = 500\n",
    "batch_size = 32\n",
    "word2vec = Word2Vec(vocab_size, embedding_dim)\n",
    "word2vec.to(device)\n",
    "optim = AdamW(word2vec.parameters(), lr=3e-3)\n",
    "loss_f = nn.CrossEntropyLoss()\n",
    "\n",
    "# Convert data to PyTorch tensors\n",
    "X_skip = torch.tensor(X_skip, dtype=torch.long, device=device)  # Input indices\n",
    "y_skip = torch.tensor(y_skip, dtype=torch.float, device=device)  # One-hot encoded targets\n",
    "\n",
    "# Training loop"
   ]
  },
  {
   "cell_type": "code",
   "execution_count": 75,
   "metadata": {},
   "outputs": [
    {
     "name": "stdout",
     "output_type": "stream",
     "text": [
      "Iteration 0, Loss: 8.7819\n",
      "Iteration 100, Loss: 8.7808\n",
      "Iteration 200, Loss: 8.7597\n",
      "Iteration 300, Loss: 8.7492\n",
      "Iteration 400, Loss: 8.7404\n",
      "Iteration 500, Loss: 8.7335\n",
      "Iteration 600, Loss: 8.7172\n",
      "Iteration 700, Loss: 8.6570\n",
      "Iteration 800, Loss: 8.6570\n",
      "Iteration 900, Loss: 8.7195\n",
      "Iteration 1000, Loss: 8.7480\n",
      "Iteration 1100, Loss: 8.7195\n",
      "Iteration 1200, Loss: 8.7508\n",
      "Iteration 1300, Loss: 8.6832\n",
      "Iteration 1400, Loss: 8.6959\n",
      "Iteration 1500, Loss: 8.6569\n",
      "Iteration 1600, Loss: 8.7508\n",
      "Iteration 1700, Loss: 8.6259\n",
      "Iteration 1800, Loss: 8.6280\n",
      "Iteration 1900, Loss: 8.7012\n"
     ]
    }
   ],
   "source": [
    "losses = []\n",
    "iters = 2000\n",
    "for i in range(iters):  # Number of training steps\n",
    "    # Randomly sample a batch of data\n",
    "    norm_losses = []\n",
    "    idx = np.random.choice(len(X_skip), size=batch_size, replace=True)\n",
    "    \n",
    "    batch_x, batch_y = X_skip[idx], y_skip[idx]\n",
    "\n",
    "    # Zero gradients from the previous step\n",
    "    optim.zero_grad()\n",
    "\n",
    "    # Forward pass\n",
    "    out = word2vec(batch_x)\n",
    "\n",
    "    # Compute the loss\n",
    "    loss = loss_f(out, batch_y)  # Convert one-hot to class indices\n",
    "\n",
    "    # Backward pass and optimization\n",
    "    loss.backward()\n",
    "    optim.step()\n",
    "    norm_losses.append(loss.item())\n",
    "\n",
    "    # Print loss every 10 iterations\n",
    "    if i % 300 == 0:\n",
    "        losses.append(sum(norm_losses) / 300)\n",
    "        print(f\"Iteration {i}, Loss: {loss.item():.4f}\")"
   ]
  },
  {
   "cell_type": "code",
   "execution_count": 76,
   "metadata": {},
   "outputs": [
    {
     "data": {
      "text/plain": [
       "[<matplotlib.lines.Line2D at 0x12d653040>]"
      ]
     },
     "execution_count": 76,
     "metadata": {},
     "output_type": "execute_result"
    },
    {
     "data": {
      "image/png": "[encoded data removed]",
      "text/plain": [
       "<Figure size 640x480 with 1 Axes>"
      ]
     },
     "metadata": {},
     "output_type": "display_data"
    }
   ],
   "source": [
    "plt.plot(np.linspace(0, len(losses), len(losses)), losses)"
   ]
  },
  {
   "cell_type": "code",
   "execution_count": 56,
   "metadata": {},
   "outputs": [
    {
     "name": "stdout",
     "output_type": "stream",
     "text": [
      "Full training state saved as word2vec_full_skipgram.pt\n"
     ]
    }
   ],
   "source": [
    "torch.save({\n",
    "    'model_state_dict': word2vec.state_dict(),\n",
    "    'optimizer_state_dict': optim.state_dict(),\n",
    "    'vocab_size': vocab_size,\n",
    "    'embedding_dim': embedding_dim,\n",
    "    'word_to_index': word_to_index,  # Save word-to-index mapping for reuse\n",
    "}, \"word2vec_full_skipgram.pt\")\n",
    "print(\"Full training state saved as word2vec_full_skipgram.pt\")"
   ]
  },
  {
   "cell_type": "code",
   "execution_count": null,
   "metadata": {},
   "outputs": [],
   "source": []
  }
 ],
 "metadata": {
  "kernelspec": {
   "display_name": "venv",
   "language": "python",
   "name": "python3"
  },
  "language_info": {
   "codemirror_mode": {
    "name": "ipython",
    "version": 3
   },
   "file_extension": ".py",
   "mimetype": "text/x-python",
   "name": "python",
   "nbconvert_exporter": "python",
   "pygments_lexer": "ipython3",
   "version": "3.10.12"
  },
  "orig_nbformat": 4
 },
 "nbformat": 4,
 "nbformat_minor": 2
}
